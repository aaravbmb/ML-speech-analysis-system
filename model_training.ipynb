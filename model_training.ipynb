{
  "nbformat": 4,
  "nbformat_minor": 0,
  "metadata": {
    "colab": {
      "provenance": [],
      "authorship_tag": "ABX9TyNpkIU3ye1sJjrTXOfsHNaB",
      "include_colab_link": true
    },
    "kernelspec": {
      "name": "python3",
      "display_name": "Python 3"
    },
    "language_info": {
      "name": "python"
    }
  },
  "cells": [
    {
      "cell_type": "markdown",
      "metadata": {
        "id": "view-in-github",
        "colab_type": "text"
      },
      "source": [
        "<a href=\"https://colab.research.google.com/github/aaravbmb/ML-speech-emotion-recognition-system/blob/main/model_training.ipynb\" target=\"_parent\"><img src=\"https://colab.research.google.com/assets/colab-badge.svg\" alt=\"Open In Colab\"/></a>"
      ]
    },
    {
      "cell_type": "markdown",
      "source": [
        "#Speech Emotion Recognition System"
      ],
      "metadata": {
        "id": "iImtEu2mt2xG"
      }
    },
    {
      "cell_type": "code",
      "execution_count": null,
      "metadata": {
        "id": "BMxiI9Zatx2g"
      },
      "outputs": [],
      "source": [
        "# Importing Libraries\n",
        "\n",
        "# General Libraries\n",
        "import numpy as np\n",
        "import pandas as pd\n",
        "import os\n",
        "import wave\n",
        "import matplotlib.pyplot as plt\n",
        "\n",
        "# Project-Specific Libraries\n",
        "import librosa\n",
        "\n",
        "from sklearn.neural_network import MLPClassifier\n",
        "from sklearn.metrics import accuracy_score\n",
        "\n",
        "import keras\n",
        "from tensorflow.keras.utils import to_categorical\n",
        "from keras.models import Sequential\n",
        "from keras.layers import *\n",
        "from keras.optimizer_v1 import rmsprop\n"
      ]
    },
    {
      "cell_type": "code",
      "source": [
        "# Extract MFCC from WAV Audio File\n",
        "def extract_mfcc(wav_file_name):\n",
        "  y, sr = librosa.load(wav_file_name)\n",
        "  mfccs = np.mean(librosa.feature.mfcc(y=y, sr=sr, n_mfcc=40).T, axis=0)\n",
        "  return mfccs"
      ],
      "metadata": {
        "id": "UpZacZmrBCql"
      },
      "execution_count": null,
      "outputs": []
    },
    {
      "cell_type": "code",
      "source": [
        "# Loading RADVESS Speech Data\n",
        "radvess_speech_labels = []\n",
        "radvess_speech_data = []\n",
        "for dirname, _, filenmames in os.walk(''):\n",
        "  for filename in filenmames:\n",
        "    radvess_speech_labels.append(int(filename[7:8]) - 1)\n",
        "    wav_file_name = os.path.join(dirname, filename)\n",
        "    radvess_speech_data.append(extract_mfcc(wav_file_name))"
      ],
      "metadata": {
        "id": "9fd9VFdIBdw7"
      },
      "execution_count": null,
      "outputs": []
    },
    {
      "cell_type": "code",
      "source": [
        "# Converting Data and Label to Array\n",
        "radvess_speech_data_array = np.array(radvess_speech_data)\n",
        "radvess_speech_labels_array = np.array(radvess_speech_labels)\n",
        "\n",
        "# Making Categorical Labels\n",
        "labels_categorical = to_categorical(radvess_speech_labels_array)"
      ],
      "metadata": {
        "id": "QNlfKwFQDJz5"
      },
      "execution_count": null,
      "outputs": []
    },
    {
      "cell_type": "code",
      "source": [
        "# Splitting Data into Training and Testing Data\n",
        "x_train, x_test, y_train, y_test = train_test_split(np.array(radvess_speech_data_array), labels_categorical, test_size=0.2, random_state=9)"
      ],
      "metadata": {
        "id": "9pJ-rzc2DXyp"
      },
      "execution_count": null,
      "outputs": []
    },
    {
      "cell_type": "code",
      "source": [
        "# Creating the LSTM Model\n",
        "def create_model_LSTM():\n",
        "  model = Sequential()\n",
        "  model.add(LSTM(128, return_sequences=False, input_shape=(40,1)))\n",
        "  model.add(Dense(64))\n",
        "  model.add(Dropout(0.4))\n",
        "  model.add(Activation('relu'))\n",
        "  model.add(Dense(32))\n",
        "  model.add(Dropout(0.4))\n",
        "  model.add(Activation('relu'))\n",
        "  model.add(dense(8))\n",
        "  model.add(Activation('softmax'))\n",
        "\n",
        "  model.compile(loss='categorical_crossentropy', metrics=['accuracy'], optimizer='adam')\n",
        "  return model\n"
      ],
      "metadata": {
        "id": "POGeK-QBDq6S"
      },
      "execution_count": null,
      "outputs": []
    },
    {
      "cell_type": "code",
      "source": [
        "# Training Process using LSTM Model\n",
        "model_A = create_model_LSTM()\n",
        "history = model_A.fit(np.expand_dims(radvess_speech_data_array[:training_samples],-1), labels_categorical[:training_samples], validation_data=(np.expand_dims(radvess_speech_data_array[training_samples:training_samples+validation_samples], -1), labels_categorical[training_samples:training_samples+validation_samples]), epochs=130, shuffle=True)"
      ],
      "metadata": {
        "id": "eaj8sUOLE775"
      },
      "execution_count": null,
      "outputs": []
    },
    {
      "cell_type": "code",
      "source": [
        "# Loss Plot for LSTM Model\n",
        "\n",
        "loss = history.history['loss']\n",
        "val_loss = history.history['val_loss']\n",
        "\n",
        "epochs = range(1, len(loss) + 1)\n",
        "\n",
        "plt.plot(epochs, loss, 'y', label='Training loss')\n",
        "plt.plot(epochs, val_loss, 'r', label='Validation loss')\n",
        "plt.title('Training and validation loss')\n",
        "plt.xlabel('Epochs')\n",
        "plt.ylabel('Loss')\n",
        "plt.legend()\n",
        "plt.show()"
      ],
      "metadata": {
        "id": "7EkCvGHsGb6w"
      },
      "execution_count": null,
      "outputs": []
    },
    {
      "cell_type": "code",
      "source": [
        "# Accuracy Plots using LSTM Model\n",
        "\n",
        "acc = history.history['accuracy']\n",
        "val_acc = history.history['val_accuracy']\n",
        "\n",
        "plt.plot(epochs, acc, 'y', label='Training acc')\n",
        "plt.plot(epochs, val_acc, 'r', label='Validation acc')\n",
        "plt.title('Training and validation accuracy')\n",
        "plt.xlabel('Epochs')\n",
        "plt.ylabel('Accuracy')\n",
        "plt.legend()\n",
        "plt.show()"
      ],
      "metadata": {
        "id": "GWG2UHwVGogo"
      },
      "execution_count": null,
      "outputs": []
    },
    {
      "cell_type": "code",
      "source": [
        "# Model Evaluation\n",
        "model_A.evaluate(np.expand_dims(ravdess_)"
      ],
      "metadata": {
        "id": "qWHV35k0GqZg"
      },
      "execution_count": null,
      "outputs": []
    }
  ]
}